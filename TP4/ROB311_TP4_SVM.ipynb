{
  "nbformat": 4,
  "nbformat_minor": 0,
  "metadata": {
    "colab": {
      "name": "ROB311-TP4-SVM.ipynb",
      "provenance": [],
      "toc_visible": true,
      "authorship_tag": "ABX9TyM8oi/+sKfL8FEshecFsotS",
      "include_colab_link": true
    },
    "kernelspec": {
      "name": "python3",
      "display_name": "Python 3"
    }
  },
  "cells": [
    {
      "cell_type": "markdown",
      "metadata": {
        "id": "view-in-github",
        "colab_type": "text"
      },
      "source": [
        "<a href=\"https://colab.research.google.com/github/ShenZheyi/ENSTA_ROB311/blob/master/TP4/ROB311_TP4_SVM.ipynb\" target=\"_parent\"><img src=\"https://colab.research.google.com/assets/colab-badge.svg\" alt=\"Open In Colab\"/></a>"
      ]
    },
    {
      "cell_type": "markdown",
      "metadata": {
        "id": "0a94CtqgVQP3"
      },
      "source": [
        "# **ROB311-TP4-SVM**\n",
        "## Implementation of a SVM Digit Recognition Algorithm\n",
        "SHEN Zheyi & GUAN Zhaoyi"
      ]
    },
    {
      "cell_type": "code",
      "metadata": {
        "id": "b9cvGXZgLtLc"
      },
      "source": [
        "from sklearn.svm import SVC\n",
        "from sklearn.pipeline import make_pipeline\n",
        "from sklearn.decomposition import PCA\n",
        "from sklearn.model_selection import GridSearchCV\n",
        "from sklearn.metrics import confusion_matrix\n",
        "from sklearn.preprocessing import StandardScaler \n",
        "import numpy as np"
      ],
      "execution_count": 1,
      "outputs": []
    },
    {
      "cell_type": "markdown",
      "metadata": {
        "id": "-P08eB0AWTII"
      },
      "source": [
        "Fontion used to read data:"
      ]
    },
    {
      "cell_type": "code",
      "metadata": {
        "id": "z-IRBhKSMHmH"
      },
      "source": [
        "def read_data(filename, feature_cols, label_cols):\n",
        "  print('Read', filename)\n",
        "  feature = np.loadtxt(filename, delimiter=',', dtype=int, usecols=feature_cols, skiprows=1)\n",
        "  label = np.loadtxt(filename, delimiter=',', dtype=int, usecols=label_cols, skiprows=1)\n",
        "  return feature, label"
      ],
      "execution_count": 2,
      "outputs": []
    },
    {
      "cell_type": "markdown",
      "metadata": {
        "id": "KY3g-m99WaKi"
      },
      "source": [
        "Fontions to calculate the accuracy and the confusion matrix:"
      ]
    },
    {
      "cell_type": "code",
      "metadata": {
        "id": "jWPnCmmHW8Ns"
      },
      "source": [
        "def calculate_accuracy(test_label_true, test_label_pred):\n",
        "  accuracy = np.mean(test_label_true == test_label_pred)\n",
        "  print('The accuray of SVM model is: ', accuracy)\n",
        "  return accuracy\n",
        "\n",
        "def calculate_confusion_matrix(test_label_true, test_label_pred):\n",
        "  conf_mat = confusion_matrix(test_label_true, test_label_pred)\n",
        "  print('The confusion Matrix :')\n",
        "  print(conf_mat)\n",
        "  return conf_mat"
      ],
      "execution_count": 3,
      "outputs": []
    },
    {
      "cell_type": "markdown",
      "metadata": {
        "id": "mJM5eUzpFldR"
      },
      "source": [
        "Load files"
      ]
    },
    {
      "cell_type": "code",
      "metadata": {
        "id": "EUYvFqYLFlDh",
        "outputId": "3d22958c-ac7c-4181-d676-c1a2a8b8a07d",
        "colab": {
          "base_uri": "https://localhost:8080/",
          "height": 53
        }
      },
      "source": [
        "train_file = \"mnist_train.csv\"\n",
        "test_file = \"mnist_test.csv\"\n",
        "label_col = 0\n",
        "features_col = range(1,785)\n",
        "trainData, trainLabel = read_data(train_file, features_col, label_col)\n",
        "testData, trueLabel = read_data(test_file, features_col, label_col)"
      ],
      "execution_count": 4,
      "outputs": [
        {
          "output_type": "stream",
          "text": [
            "Read mnist_train.csv\n",
            "Read mnist_test.csv\n"
          ],
          "name": "stdout"
        }
      ]
    },
    {
      "cell_type": "markdown",
      "metadata": {
        "id": "E1lxsx2sYnZ2"
      },
      "source": [
        "## 1.   A Simple Implementation of SVM\n",
        "\n",
        "\n",
        "\n"
      ]
    },
    {
      "cell_type": "code",
      "metadata": {
        "id": "2SM09AGcMLpG"
      },
      "source": [
        "def simple_SVM_train(train_label, train_data, pca_components=100):\n",
        "  # Create and train the model\n",
        "  pca = PCA(n_components=pca_components)\n",
        "  svc = SVC(class_weight='balanced')\n",
        "  pca.fit(train_data)\n",
        "  new_train_data = pca.transform(train_data)\n",
        "  print('Size of train data before PCA: ', train_data.shape)\n",
        "  print('Size of train data after PCA: ', new_train_data.shape)\n",
        "  clf = SVC()\n",
        "  print('Begin training...')\n",
        "  clf.fit(new_train_data, train_label)\n",
        "  return pca, clf"
      ],
      "execution_count": 5,
      "outputs": []
    },
    {
      "cell_type": "code",
      "metadata": {
        "id": "5R1UXKIQObko"
      },
      "source": [
        "def simple_SVM_test(test_data, pca, clf):\n",
        "  new_test_data = pca.transform(test_data)\n",
        "  print('Begin testing...')\n",
        "  predict_label = clf.predict(new_test_data)\n",
        "  return predict_label"
      ],
      "execution_count": 6,
      "outputs": []
    },
    {
      "cell_type": "code",
      "metadata": {
        "id": "JYQtlQVbMNJk",
        "outputId": "3ab134a8-0e9a-45c1-b034-24b8a0a69b63",
        "colab": {
          "base_uri": "https://localhost:8080/",
          "height": 305
        }
      },
      "source": [
        "if __name__ == '__main__':\n",
        "  pca, clf = simple_SVM_train(trainLabel, trainData, 100)\n",
        "  predictLabel = simple_SVM_test(testData, pca, clf)\n",
        "  calculate_accuracy(trueLabel, predictLabel)\n",
        "  calculate_confusion_matrix(trueLabel, predictLabel)"
      ],
      "execution_count": 7,
      "outputs": [
        {
          "output_type": "stream",
          "text": [
            "Size of train data before PCA:  (60000, 784)\n",
            "Size of train data after PCA:  (60000, 100)\n",
            "Begin training...\n",
            "Begin testing...\n",
            "The accuray of SVM model is:  0.9841\n",
            "The confusion Matrix :\n",
            "[[ 974    0    1    0    0    2    0    1    2    0]\n",
            " [   0 1128    3    1    0    1    1    0    1    0]\n",
            " [   5    0 1014    0    1    0    1    7    4    0]\n",
            " [   0    0    2  996    0    3    0    5    3    1]\n",
            " [   0    0    3    0  963    0    4    0    1   11]\n",
            " [   2    0    0    7    0  878    2    1    1    1]\n",
            " [   5    2    0    0    2    3  945    0    1    0]\n",
            " [   0    5    9    1    0    0    0 1007    1    5]\n",
            " [   3    0    1    3    3    1    1    2  958    2]\n",
            " [   3    3    1    5    8    2    1    5    3  978]]\n"
          ],
          "name": "stdout"
        }
      ]
    },
    {
      "cell_type": "markdown",
      "metadata": {
        "id": "NLLbsOZ-cYnT"
      },
      "source": [
        "##2.   Algorithm using *make_pipeline*\n",
        "\n",
        "\n",
        "\n"
      ]
    },
    {
      "cell_type": "code",
      "metadata": {
        "id": "wc1dPRtdco2_",
        "outputId": "d74ab068-eaa0-4f0d-d64b-38b7264ce7e7",
        "colab": {
          "base_uri": "https://localhost:8080/",
          "height": 269
        }
      },
      "source": [
        "def SVM_train_pipeline(train_label, train_data, pca_components=100):\n",
        "  # Create and train the model\n",
        "  pca = PCA(n_components=pca_components)\n",
        "  svc = SVC(class_weight='balanced')\n",
        "  clf = make_pipeline(pca, StandardScaler(), svc)\n",
        "  print('Begin training...')\n",
        "  clf.fit(train_data, train_label)\n",
        "  return clf\n",
        "\n",
        "def SVM_test_pipeline(test_data, clf):\n",
        "  print('Begin testing...')\n",
        "  predict_label = clf.predict(test_data)\n",
        "  return predict_label\n",
        "\n",
        "if __name__ == '__main__':\n",
        "  clf = SVM_train_pipeline(trainLabel, trainData, 100)\n",
        "  predictLabel = SVM_test_pipeline(testData, clf)\n",
        "  calculate_accuracy(trueLabel, predictLabel)\n",
        "  calculate_confusion_matrix(trueLabel, predictLabel)"
      ],
      "execution_count": 8,
      "outputs": [
        {
          "output_type": "stream",
          "text": [
            "Begin training...\n",
            "Begin testing...\n",
            "The accuray of SVM model is:  0.9812\n",
            "The confusion Matrix :\n",
            "[[ 974    0    1    1    0    0    2    0    2    0]\n",
            " [   0 1126    2    1    1    1    2    1    1    0]\n",
            " [   2    2 1013    1    1    0    1    4    7    1]\n",
            " [   0    0    7  987    0    5    0    5    5    1]\n",
            " [   0    0    6    0  963    0    1    0    1   11]\n",
            " [   2    0    0    6    0  878    3    0    3    0]\n",
            " [   6    2    0    1    3    2  944    0    0    0]\n",
            " [   0    4   12    2    0    1    0 1003    0    6]\n",
            " [   3    0    1    4    2    3    1    3  955    2]\n",
            " [   4    2    2    7   11    4    0    8    2  969]]\n"
          ],
          "name": "stdout"
        }
      ]
    },
    {
      "cell_type": "markdown",
      "metadata": {
        "id": "x3XxFQA7e_lt"
      },
      "source": [
        "##3.   Use *GridSearchCV* to find best estimator\n",
        "\n"
      ]
    },
    {
      "cell_type": "code",
      "metadata": {
        "id": "5WtYuoctfTjw",
        "outputId": "73a86dbf-3716-4834-9002-791c027cbcad",
        "colab": {
          "base_uri": "https://localhost:8080/",
          "height": 305
        }
      },
      "source": [
        "def SVM_train(train_label, train_data, pca_components=100):\n",
        "  # Create and train the model\n",
        "  pca = PCA(n_components=pca_components)\n",
        "  svc = SVC(class_weight='balanced')\n",
        "  model = make_pipeline(pca, StandardScaler(), svc)\n",
        "  parameters = {'svc__C': [1, 5, 10],'svc__kernel': ('linear', 'poly', 'rbf', 'sigmoid')}\n",
        "  clf = GridSearchCV(model, parameters)\n",
        "  print('Begin training...')\n",
        "  clf.fit(train_data, train_label)\n",
        "  print(\"The best parameters is : \", clf.best_params_)\n",
        "  print(\"The best score associated is : \", clf.best_score_)\n",
        "  return clf.best_estimator_\n",
        "\n",
        "def SVM_test(test_data, estimator):\n",
        "  print('Begin test...')\n",
        "  predict_label = estimator.predict(test_data)\n",
        "  return predict_label\n",
        "  \n",
        "if __name__ == '__main__':\n",
        "  best_estimator = SVM_train(trainLabel, trainData)\n",
        "  predictLabel = SVM_test(testData, best_estimator)\n",
        "\n",
        "  calculate_accuracy(trueLabel, predictLabel)\n",
        "  calculate_confusion_matrix(trueLabel, predictLabel)"
      ],
      "execution_count": 9,
      "outputs": [
        {
          "output_type": "stream",
          "text": [
            "Begin training...\n",
            "The best parameters is :  {'svc__C': 10, 'svc__kernel': 'rbf'}\n",
            "The best score associated is :  0.9797166666666668\n",
            "Begin test...\n",
            "The accuray of SVM model is:  0.9818\n",
            "The confusion Matrix :\n",
            "[[ 974    0    0    1    0    0    2    0    3    0]\n",
            " [   0 1127    2    1    1    2    1    0    1    0]\n",
            " [   2    1 1013    1    1    0    1    4    8    1]\n",
            " [   0    0    7  986    0    6    0    5    5    1]\n",
            " [   0    0    6    0  965    0    1    0    1    9]\n",
            " [   2    0    0    8    0  877    4    0    1    0]\n",
            " [   4    2    0    1    3    3  945    0    0    0]\n",
            " [   0    4    9    2    2    1    0 1005    0    5]\n",
            " [   3    1    1    2    1    3    1    4  955    3]\n",
            " [   4    2    2    5   10    4    0    8    3  971]]\n"
          ],
          "name": "stdout"
        }
      ]
    }
  ]
}